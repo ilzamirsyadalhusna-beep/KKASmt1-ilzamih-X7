{
  "nbformat": 4,
  "nbformat_minor": 0,
  "metadata": {
    "colab": {
      "provenance": [],
      "authorship_tag": "ABX9TyMZMHXWGUpokkO2gYBDFa0a",
      "include_colab_link": true
    },
    "kernelspec": {
      "name": "python3",
      "display_name": "Python 3"
    },
    "language_info": {
      "name": "python"
    }
  },
  "cells": [
    {
      "cell_type": "markdown",
      "metadata": {
        "id": "view-in-github",
        "colab_type": "text"
      },
      "source": [
        "<a href=\"https://colab.research.google.com/github/ilzamirsyadalhusna-beep/KKASmt1-ilzamih-X7/blob/main/1_Fungsi_print_ilzam_X_7.ipynb\" target=\"_parent\"><img src=\"https://colab.research.google.com/assets/colab-badge.svg\" alt=\"Open In Colab\"/></a>"
      ]
    },
    {
      "cell_type": "markdown",
      "source": [
        "Nama:ilzam irsyadal h.\n",
        "No:16"
      ],
      "metadata": {
        "id": "SxeFOB50Vg7J"
      }
    },
    {
      "cell_type": "markdown",
      "source": [
        "#Menampilkan teks bebas dengan tanda kutip"
      ],
      "metadata": {
        "id": "e3IKnRPKVMLo"
      }
    },
    {
      "cell_type": "code",
      "execution_count": null,
      "metadata": {
        "colab": {
          "base_uri": "https://localhost:8080/"
        },
        "id": "b4VHr0rPJ0BK",
        "outputId": "dd09a6c7-59f1-4df5-e32b-d79880484342"
      },
      "outputs": [
        {
          "output_type": "stream",
          "name": "stdout",
          "text": [
            "hallo world\n"
          ]
        }
      ],
      "source": [
        "print(\"hallo world\")"
      ]
    },
    {
      "cell_type": "code",
      "source": [
        "print(\"ilzam irsyadal h.\")"
      ],
      "metadata": {
        "colab": {
          "base_uri": "https://localhost:8080/"
        },
        "id": "qhA6RMTBKrpg",
        "outputId": "c184be56-57f2-44d2-a360-d3da674294f4"
      },
      "execution_count": null,
      "outputs": [
        {
          "output_type": "stream",
          "name": "stdout",
          "text": [
            "ilzam irsyadal h.\n"
          ]
        }
      ]
    },
    {
      "cell_type": "markdown",
      "source": [
        "#Menampilkan Variabel Integer"
      ],
      "metadata": {
        "id": "dfZNG-MmQdUW"
      }
    },
    {
      "cell_type": "code",
      "source": [
        "usia=20\n",
        "print(usia)"
      ],
      "metadata": {
        "colab": {
          "base_uri": "https://localhost:8080/"
        },
        "id": "cg9M_UPKMSZp",
        "outputId": "fc98eb5b-4959-4108-fd3b-ca9846b2872d"
      },
      "execution_count": null,
      "outputs": [
        {
          "output_type": "stream",
          "name": "stdout",
          "text": [
            "20\n"
          ]
        }
      ]
    },
    {
      "cell_type": "code",
      "source": [
        "Beratbadan = 50\n",
        "print(Beratbadan)"
      ],
      "metadata": {
        "colab": {
          "base_uri": "https://localhost:8080/"
        },
        "id": "0Oe8Pxq-M8Vc",
        "outputId": "17d001e3-7b33-47dc-d0d2-f2798797c848"
      },
      "execution_count": null,
      "outputs": [
        {
          "output_type": "stream",
          "name": "stdout",
          "text": [
            "50\n"
          ]
        }
      ]
    },
    {
      "cell_type": "code",
      "source": [
        "Tinggi_badan = 170\n",
        "print(Tinggi_badan)"
      ],
      "metadata": {
        "colab": {
          "base_uri": "https://localhost:8080/"
        },
        "id": "jLEpAiRoNetV",
        "outputId": "2b9f9457-a738-4bca-eee0-9d9e25d0ac41"
      },
      "execution_count": null,
      "outputs": [
        {
          "output_type": "stream",
          "name": "stdout",
          "text": [
            "170\n"
          ]
        }
      ]
    },
    {
      "cell_type": "markdown",
      "source": [
        "#Menampilkan Teks Bebas Dan Nilai Variabel"
      ],
      "metadata": {
        "id": "ZfL6W1y1Qqzc"
      }
    },
    {
      "cell_type": "code",
      "source": [
        "print(\"Tinggi badan:\", Tinggi_badan)"
      ],
      "metadata": {
        "colab": {
          "base_uri": "https://localhost:8080/"
        },
        "id": "51n49a7jO6O3",
        "outputId": "3038a835-b8cc-4df7-a475-3317e6845676"
      },
      "execution_count": null,
      "outputs": [
        {
          "output_type": "stream",
          "name": "stdout",
          "text": [
            "Tinggi badan: 170\n"
          ]
        }
      ]
    },
    {
      "cell_type": "code",
      "source": [
        "print(\"usia anda:\" + str(usia))"
      ],
      "metadata": {
        "colab": {
          "base_uri": "https://localhost:8080/"
        },
        "id": "BMvOSzQ-Rcnc",
        "outputId": "00ce287d-acba-4e77-e704-a7e00030c98a"
      },
      "execution_count": null,
      "outputs": [
        {
          "output_type": "stream",
          "name": "stdout",
          "text": [
            "usia anda:20\n"
          ]
        }
      ]
    },
    {
      "cell_type": "code",
      "source": [
        "LuasMAN = 1.1\n",
        "print(\"LuasMAN Adalah \" + str(LuasMAN) + \" kilometer persegi.\")"
      ],
      "metadata": {
        "colab": {
          "base_uri": "https://localhost:8080/"
        },
        "id": "4m2_ikIFSmVn",
        "outputId": "60a866b5-530f-45f7-b7b7-cf1efd77372f"
      },
      "execution_count": null,
      "outputs": [
        {
          "output_type": "stream",
          "name": "stdout",
          "text": [
            "LuasMAN Adalah 1.1 kilometer persegi.\n"
          ]
        }
      ]
    },
    {
      "cell_type": "code",
      "source": [
        "print(f\"LuasMAN Adalah {LuasMAN} kilometer persegi.\")"
      ],
      "metadata": {
        "colab": {
          "base_uri": "https://localhost:8080/"
        },
        "id": "Rrnd7ScmT_XG",
        "outputId": "06f3d5cf-01cc-467b-b488-e069e6d7aedf"
      },
      "execution_count": null,
      "outputs": [
        {
          "output_type": "stream",
          "name": "stdout",
          "text": [
            "LuasMAN Adalah 1.1 kilometer persegi.\n"
          ]
        }
      ]
    },
    {
      "cell_type": "code",
      "source": [
        "harga_telur = 26000\n",
        "nama_pembeli = \"ilzam\"\n",
        "\n",
        "print(\"harga telur adalah\" , harga_telur , \"per kilogram\")\n",
        "print(\"nama pembeli telur adalah\" , nama_pembeli)"
      ],
      "metadata": {
        "colab": {
          "base_uri": "https://localhost:8080/"
        },
        "id": "Z160kNiUMnlG",
        "outputId": "6aa32ade-05e1-4c6d-b2bf-6a1574572d0e"
      },
      "execution_count": null,
      "outputs": [
        {
          "output_type": "stream",
          "name": "stdout",
          "text": [
            "harga telur adalah 26000 per kilogram\n",
            "nama pembeli telur adalah ilzam\n"
          ]
        }
      ]
    },
    {
      "cell_type": "code",
      "source": [
        "print(\"harga telur adalah \" + str(harga_telur) + \" per kilogram\")\n",
        "print(\"nama pembeli telur adalah \" + nama_pembeli)"
      ],
      "metadata": {
        "colab": {
          "base_uri": "https://localhost:8080/"
        },
        "id": "Flu991V0Pvxl",
        "outputId": "d345bee5-31e5-4361-ca50-c30f1a98eb39"
      },
      "execution_count": null,
      "outputs": [
        {
          "output_type": "stream",
          "name": "stdout",
          "text": [
            "harga telur adalah 26000 per kilogram\n",
            "nama pembeli telur adalah ilzam\n"
          ]
        }
      ]
    },
    {
      "cell_type": "code",
      "source": [
        "print(f\"harga telur adalah {harga_telur} per kilogram\")\n",
        "print(f\"nama pembeli telur adalah {nama_pembeli}\")"
      ],
      "metadata": {
        "colab": {
          "base_uri": "https://localhost:8080/"
        },
        "id": "Co5ZjvSMRoV2",
        "outputId": "6e70eb67-caac-40d0-c49f-be27d62859ef"
      },
      "execution_count": null,
      "outputs": [
        {
          "output_type": "stream",
          "name": "stdout",
          "text": [
            "harga telur adalah 26000 per kilogram\n",
            "nama pembeli telur adalah ilzam\n"
          ]
        }
      ]
    },
    {
      "cell_type": "code",
      "source": [
        "print(\"nama: ilzam irsyadal husna\")\n",
        "print(\"kelas: X.7\")\n",
        "print(\"nomor absen: 16\")"
      ],
      "metadata": {
        "colab": {
          "base_uri": "https://localhost:8080/"
        },
        "id": "Hlx8sfQpVEBw",
        "outputId": "caa99a71-f521-4200-8875-8c8cbcf168d1"
      },
      "execution_count": null,
      "outputs": [
        {
          "output_type": "stream",
          "name": "stdout",
          "text": [
            "nama: ilzam irsyadal husna\n",
            "kelas: X.7\n",
            "nomor absen: 16\n"
          ]
        }
      ]
    },
    {
      "cell_type": "code",
      "source": [
        "print(\"nama\\t\\t: ilzam irsyadal husna\\nkelas\\t\\t: X.7\\nnomor absen\\t: 16\")"
      ],
      "metadata": {
        "colab": {
          "base_uri": "https://localhost:8080/"
        },
        "id": "x1DjBg8oVhDh",
        "outputId": "54a2b613-5925-46a9-9d58-73d2f4d4ff19"
      },
      "execution_count": null,
      "outputs": [
        {
          "output_type": "stream",
          "name": "stdout",
          "text": [
            "nama\t\t: ilzam irsyadal husna\n",
            "kelas\t\t: X.7\n",
            "nomor absen\t: 16\n"
          ]
        }
      ]
    },
    {
      "cell_type": "code",
      "source": [
        "print(\"\"\"nama: ilzam irsyadal husna\n",
        "kelas: X.7\n",
        "nomor absen: 16\"\"\")"
      ],
      "metadata": {
        "colab": {
          "base_uri": "https://localhost:8080/"
        },
        "id": "dtEPlRIiWJpQ",
        "outputId": "d3533f14-7307-4f49-d4a5-822ba106f5ec"
      },
      "execution_count": null,
      "outputs": [
        {
          "output_type": "stream",
          "name": "stdout",
          "text": [
            "nama: ilzam irsyadal husna\n",
            "kelas: X.7\n",
            "nomor absen: 16\n"
          ]
        }
      ]
    }
  ]
}